{
  "nbformat": 4,
  "nbformat_minor": 0,
  "metadata": {
    "colab": {
      "provenance": []
    },
    "kernelspec": {
      "name": "python3",
      "display_name": "Python 3"
    },
    "language_info": {
      "name": "python"
    }
  },
  "cells": [
    {
      "cell_type": "code",
      "execution_count": 1,
      "metadata": {
        "colab": {
          "base_uri": "https://localhost:8080/"
        },
        "id": "7TxaYWbQ3R6B",
        "outputId": "513ded3f-9f1e-45af-abb8-22789fc248c6"
      },
      "outputs": [
        {
          "output_type": "stream",
          "name": "stdout",
          "text": [
            "Requirement already satisfied: tensorflow in /usr/local/lib/python3.10/dist-packages (2.15.0)\n",
            "Requirement already satisfied: absl-py>=1.0.0 in /usr/local/lib/python3.10/dist-packages (from tensorflow) (1.4.0)\n",
            "Requirement already satisfied: astunparse>=1.6.0 in /usr/local/lib/python3.10/dist-packages (from tensorflow) (1.6.3)\n",
            "Requirement already satisfied: flatbuffers>=23.5.26 in /usr/local/lib/python3.10/dist-packages (from tensorflow) (23.5.26)\n",
            "Requirement already satisfied: gast!=0.5.0,!=0.5.1,!=0.5.2,>=0.2.1 in /usr/local/lib/python3.10/dist-packages (from tensorflow) (0.5.4)\n",
            "Requirement already satisfied: google-pasta>=0.1.1 in /usr/local/lib/python3.10/dist-packages (from tensorflow) (0.2.0)\n",
            "Requirement already satisfied: h5py>=2.9.0 in /usr/local/lib/python3.10/dist-packages (from tensorflow) (3.9.0)\n",
            "Requirement already satisfied: libclang>=13.0.0 in /usr/local/lib/python3.10/dist-packages (from tensorflow) (16.0.6)\n",
            "Requirement already satisfied: ml-dtypes~=0.2.0 in /usr/local/lib/python3.10/dist-packages (from tensorflow) (0.2.0)\n",
            "Requirement already satisfied: numpy<2.0.0,>=1.23.5 in /usr/local/lib/python3.10/dist-packages (from tensorflow) (1.23.5)\n",
            "Requirement already satisfied: opt-einsum>=2.3.2 in /usr/local/lib/python3.10/dist-packages (from tensorflow) (3.3.0)\n",
            "Requirement already satisfied: packaging in /usr/local/lib/python3.10/dist-packages (from tensorflow) (23.2)\n",
            "Requirement already satisfied: protobuf!=4.21.0,!=4.21.1,!=4.21.2,!=4.21.3,!=4.21.4,!=4.21.5,<5.0.0dev,>=3.20.3 in /usr/local/lib/python3.10/dist-packages (from tensorflow) (3.20.3)\n",
            "Requirement already satisfied: setuptools in /usr/local/lib/python3.10/dist-packages (from tensorflow) (67.7.2)\n",
            "Requirement already satisfied: six>=1.12.0 in /usr/local/lib/python3.10/dist-packages (from tensorflow) (1.16.0)\n",
            "Requirement already satisfied: termcolor>=1.1.0 in /usr/local/lib/python3.10/dist-packages (from tensorflow) (2.4.0)\n",
            "Requirement already satisfied: typing-extensions>=3.6.6 in /usr/local/lib/python3.10/dist-packages (from tensorflow) (4.5.0)\n",
            "Requirement already satisfied: wrapt<1.15,>=1.11.0 in /usr/local/lib/python3.10/dist-packages (from tensorflow) (1.14.1)\n",
            "Requirement already satisfied: tensorflow-io-gcs-filesystem>=0.23.1 in /usr/local/lib/python3.10/dist-packages (from tensorflow) (0.35.0)\n",
            "Requirement already satisfied: grpcio<2.0,>=1.24.3 in /usr/local/lib/python3.10/dist-packages (from tensorflow) (1.60.0)\n",
            "Requirement already satisfied: tensorboard<2.16,>=2.15 in /usr/local/lib/python3.10/dist-packages (from tensorflow) (2.15.1)\n",
            "Requirement already satisfied: tensorflow-estimator<2.16,>=2.15.0 in /usr/local/lib/python3.10/dist-packages (from tensorflow) (2.15.0)\n",
            "Requirement already satisfied: keras<2.16,>=2.15.0 in /usr/local/lib/python3.10/dist-packages (from tensorflow) (2.15.0)\n",
            "Requirement already satisfied: wheel<1.0,>=0.23.0 in /usr/local/lib/python3.10/dist-packages (from astunparse>=1.6.0->tensorflow) (0.42.0)\n",
            "Requirement already satisfied: google-auth<3,>=1.6.3 in /usr/local/lib/python3.10/dist-packages (from tensorboard<2.16,>=2.15->tensorflow) (2.17.3)\n",
            "Requirement already satisfied: google-auth-oauthlib<2,>=0.5 in /usr/local/lib/python3.10/dist-packages (from tensorboard<2.16,>=2.15->tensorflow) (1.2.0)\n",
            "Requirement already satisfied: markdown>=2.6.8 in /usr/local/lib/python3.10/dist-packages (from tensorboard<2.16,>=2.15->tensorflow) (3.5.2)\n",
            "Requirement already satisfied: requests<3,>=2.21.0 in /usr/local/lib/python3.10/dist-packages (from tensorboard<2.16,>=2.15->tensorflow) (2.31.0)\n",
            "Requirement already satisfied: tensorboard-data-server<0.8.0,>=0.7.0 in /usr/local/lib/python3.10/dist-packages (from tensorboard<2.16,>=2.15->tensorflow) (0.7.2)\n",
            "Requirement already satisfied: werkzeug>=1.0.1 in /usr/local/lib/python3.10/dist-packages (from tensorboard<2.16,>=2.15->tensorflow) (3.0.1)\n",
            "Requirement already satisfied: cachetools<6.0,>=2.0.0 in /usr/local/lib/python3.10/dist-packages (from google-auth<3,>=1.6.3->tensorboard<2.16,>=2.15->tensorflow) (5.3.2)\n",
            "Requirement already satisfied: pyasn1-modules>=0.2.1 in /usr/local/lib/python3.10/dist-packages (from google-auth<3,>=1.6.3->tensorboard<2.16,>=2.15->tensorflow) (0.3.0)\n",
            "Requirement already satisfied: rsa<5,>=3.1.4 in /usr/local/lib/python3.10/dist-packages (from google-auth<3,>=1.6.3->tensorboard<2.16,>=2.15->tensorflow) (4.9)\n",
            "Requirement already satisfied: requests-oauthlib>=0.7.0 in /usr/local/lib/python3.10/dist-packages (from google-auth-oauthlib<2,>=0.5->tensorboard<2.16,>=2.15->tensorflow) (1.3.1)\n",
            "Requirement already satisfied: charset-normalizer<4,>=2 in /usr/local/lib/python3.10/dist-packages (from requests<3,>=2.21.0->tensorboard<2.16,>=2.15->tensorflow) (3.3.2)\n",
            "Requirement already satisfied: idna<4,>=2.5 in /usr/local/lib/python3.10/dist-packages (from requests<3,>=2.21.0->tensorboard<2.16,>=2.15->tensorflow) (3.6)\n",
            "Requirement already satisfied: urllib3<3,>=1.21.1 in /usr/local/lib/python3.10/dist-packages (from requests<3,>=2.21.0->tensorboard<2.16,>=2.15->tensorflow) (2.0.7)\n",
            "Requirement already satisfied: certifi>=2017.4.17 in /usr/local/lib/python3.10/dist-packages (from requests<3,>=2.21.0->tensorboard<2.16,>=2.15->tensorflow) (2023.11.17)\n",
            "Requirement already satisfied: MarkupSafe>=2.1.1 in /usr/local/lib/python3.10/dist-packages (from werkzeug>=1.0.1->tensorboard<2.16,>=2.15->tensorflow) (2.1.3)\n",
            "Requirement already satisfied: pyasn1<0.6.0,>=0.4.6 in /usr/local/lib/python3.10/dist-packages (from pyasn1-modules>=0.2.1->google-auth<3,>=1.6.3->tensorboard<2.16,>=2.15->tensorflow) (0.5.1)\n",
            "Requirement already satisfied: oauthlib>=3.0.0 in /usr/local/lib/python3.10/dist-packages (from requests-oauthlib>=0.7.0->google-auth-oauthlib<2,>=0.5->tensorboard<2.16,>=2.15->tensorflow) (3.2.2)\n"
          ]
        }
      ],
      "source": [
        "!pip install tensorflow"
      ]
    },
    {
      "cell_type": "code",
      "source": [
        "# Demo Red Neuronal Convolucional (CNN)\n",
        "from keras.models import Sequential\n",
        "from keras.layers import Conv2D, MaxPooling2D, Flatten, Dense\n",
        "# Crear el modelo\n",
        "model = Sequential()\n",
        "# Añadir la capa convolucional\n",
        "model.add(Conv2D(filters=32, kernel_size=(3, 3), activation='relu', input_shape=(64, 64, 3)))\n",
        "# Añadir una capa de pooling\n",
        "model.add(MaxPooling2D(pool_size=(2, 2)))\n",
        "# Aplanar el resultado para las capas densas\n",
        "model.add(Flatten())\n",
        "# Añadir una capa densa (fully connected)\n",
        "model.add(Dense(units=128, activation='relu'))\n",
        "# Capa de salida\n",
        "model.add(Dense(units=1, activation='sigmoid'))\n",
        "# Compilar el modelo\n",
        "model.compile(optimizer='adam', loss='binary_crossentropy', metrics=['accuracy'])\n",
        "# Resumen del modelo\n",
        "model.summary()"
      ],
      "metadata": {
        "colab": {
          "base_uri": "https://localhost:8080/"
        },
        "id": "CawVM3mF7sN1",
        "outputId": "501615f1-b874-426b-db39-98b4707ae09e"
      },
      "execution_count": 2,
      "outputs": [
        {
          "output_type": "stream",
          "name": "stdout",
          "text": [
            "Model: \"sequential\"\n",
            "_________________________________________________________________\n",
            " Layer (type)                Output Shape              Param #   \n",
            "=================================================================\n",
            " conv2d (Conv2D)             (None, 62, 62, 32)        896       \n",
            "                                                                 \n",
            " max_pooling2d (MaxPooling2  (None, 31, 31, 32)        0         \n",
            " D)                                                              \n",
            "                                                                 \n",
            " flatten (Flatten)           (None, 30752)             0         \n",
            "                                                                 \n",
            " dense (Dense)               (None, 128)               3936384   \n",
            "                                                                 \n",
            " dense_1 (Dense)             (None, 1)                 129       \n",
            "                                                                 \n",
            "=================================================================\n",
            "Total params: 3937409 (15.02 MB)\n",
            "Trainable params: 3937409 (15.02 MB)\n",
            "Non-trainable params: 0 (0.00 Byte)\n",
            "_________________________________________________________________\n"
          ]
        }
      ]
    },
    {
      "cell_type": "markdown",
      "source": [
        "Preprocesamiento de imagenes"
      ],
      "metadata": {
        "id": "ikGwxPGV_VpO"
      }
    },
    {
      "cell_type": "code",
      "source": [
        "# Preprocesamiento de imágenes\n",
        "def cargar_y_preprocesar_imagen(ruta_imagen, tamano=(64, 64)):\n",
        "  # Cargar la imagen\n",
        "  imagen = Image.open(ruta_imagen).convert('RGB')\n",
        "  imagen = imagen.resize(tamano)\n",
        "  imagen = np.array(imagen)\n",
        "  imagen = imagen / 255.0 # Normalización\n",
        "  return imagen"
      ],
      "metadata": {
        "id": "_jmf5FcH_WDT"
      },
      "execution_count": 4,
      "outputs": []
    },
    {
      "cell_type": "code",
      "source": [
        "from google.colab import drive\n",
        "\n",
        "# Montar Google Drive\n",
        "drive.mount('/content/drive')"
      ],
      "metadata": {
        "colab": {
          "base_uri": "https://localhost:8080/"
        },
        "id": "MjltIwfIBj-4",
        "outputId": "5f2427fd-e20e-48ef-db61-026780a027d0"
      },
      "execution_count": 12,
      "outputs": [
        {
          "output_type": "stream",
          "name": "stdout",
          "text": [
            "Mounted at /content/drive\n"
          ]
        }
      ]
    },
    {
      "cell_type": "code",
      "source": [
        "from PIL import Image\n",
        "import numpy as np\n",
        "\n",
        "# Rutas a las carpetas de gatos y perros\n",
        "ruta_gatos ='/content/drive/MyDrive/dataIA/dogs_vs_cats/Cat'\n",
        "ruta_perros ='/content/drive/MyDrive/dataIA/dogs_vs_cats/Dog'\n",
        "# Cargar y preprocesar imágenes\n",
        "imagenes = []\n",
        "etiquetas = []\n",
        "\n",
        "# Cargar gatos\n",
        "for archivo in os.listdir(ruta_gatos):\n",
        "  ruta_completa = os.path.join(ruta_gatos, archivo)\n",
        "\n",
        "  # Lista de extensiones permitidas\n",
        "  extensiones_permitidas = ['.jpg', '.jpeg', '.png', '.bmp']\n",
        "  _, extension = os.path.splitext(archivo)\n",
        "\n",
        "  # otra opción podría ser ruta_imagen[-4:].lower() para obtener la extensión pero mejor así.\n",
        "  # Comprobar que la extensión es una de las permitidas\n",
        "  if extension.lower() in extensiones_permitidas:\n",
        "      try:\n",
        "          img = cargar_y_preprocesar_imagen(ruta_completa)\n",
        "          imagenes.append(img)\n",
        "          etiquetas.append(0)  # 0 para gatos\n",
        "      except Exception as e:\n",
        "          print(f\"No se pudo cargar la imagen {archivo}. Error: {str(e)}\")\n",
        "  else:\n",
        "      continue"
      ],
      "metadata": {
        "id": "H6j8d54F_cbk"
      },
      "execution_count": 16,
      "outputs": []
    },
    {
      "cell_type": "code",
      "source": [
        "# Cargar perros\n",
        "for archivo in os.listdir(ruta_perros):\n",
        "  ruta_completa = os.path.join(ruta_perros, archivo)\n",
        "  # Lista de extensiones permitidas\n",
        "  extensiones_permitidas = ['.jpg', '.jpeg', '.png', '.bmp']\n",
        "  _, extension = os.path.splitext(archivo)\n",
        "  # otra opción podría ser ruta_imagen[-4:].lower() para obtener la extensión pero mejor así.\n",
        "  # Comprobar que la extensión es una de las permitidas\n",
        "  if (extension.lower() in extensiones_permitidas):\n",
        "    try:\n",
        "      img = cargar_y_preprocesar_imagen(ruta_completa)\n",
        "      imagenes.append(img)\n",
        "      etiquetas.append(1) # 1 para perros\n",
        "    except:\n",
        "      print(f\"No se pudo cargar la imagen {archivo}\")\n",
        "  else:\n",
        "    continue"
      ],
      "metadata": {
        "id": "6tzZ6NNPCcos"
      },
      "execution_count": 17,
      "outputs": []
    },
    {
      "cell_type": "code",
      "source": [
        "from sklearn.model_selection import train_test_split\n",
        "\n",
        "# Convertir listas a arrays de Numpy\n",
        "imagenes = np.array(imagenes)\n",
        "etiquetas = np.array(etiquetas)\n",
        "X_train, X_test, y_train, y_test = train_test_split(imagenes, etiquetas, test_size=0.2, random_state=42)\n",
        "\n",
        "# Construcción del modelo\n",
        "modelo = Sequential([\n",
        "  Conv2D(32, (3, 3), activation='relu', input_shape=(64, 64, 3)),\n",
        "  MaxPooling2D(2, 2),\n",
        "  Conv2D(64, (3, 3), activation='relu'),\n",
        "  MaxPooling2D(2, 2),\n",
        "  Flatten(),\n",
        "  Dense(128, activation='relu'),\n",
        "  Dense(1, activation='sigmoid')\n",
        "  ])\n",
        "\n",
        "# Compilación del modelo\n",
        "modelo.compile(optimizer='adam', loss='binary_crossentropy', metrics=['accuracy'])"
      ],
      "metadata": {
        "id": "8ydPPOziCq3g"
      },
      "execution_count": 20,
      "outputs": []
    },
    {
      "cell_type": "code",
      "source": [
        "# Entrenamiento del modelo\n",
        "modelo.fit(X_train, y_train, epochs=10, validation_data=(X_test, y_test))\n",
        "# Evaluar el modelo\n",
        "evaluacion = modelo.evaluate(X_test, y_test)\n",
        "print(f\"Test Accuracy: {evaluacion[1] * 100}%\")\n",
        "modelo.save('modelo_cats_vs_dogs.keras') # Guarda el modelo en un archivo .keras"
      ],
      "metadata": {
        "colab": {
          "base_uri": "https://localhost:8080/"
        },
        "id": "klKmn_PfD-ro",
        "outputId": "f5ce8079-5004-4115-a1e7-3b7e747341fa"
      },
      "execution_count": 21,
      "outputs": [
        {
          "output_type": "stream",
          "name": "stdout",
          "text": [
            "Epoch 1/10\n",
            "367/367 [==============================] - 80s 213ms/step - loss: 0.4248 - accuracy: 0.8509 - val_loss: 0.4038 - val_accuracy: 0.8525\n",
            "Epoch 2/10\n",
            "367/367 [==============================] - 70s 191ms/step - loss: 0.3699 - accuracy: 0.8516 - val_loss: 0.3628 - val_accuracy: 0.8525\n",
            "Epoch 3/10\n",
            "367/367 [==============================] - 71s 194ms/step - loss: 0.3423 - accuracy: 0.8516 - val_loss: 0.3508 - val_accuracy: 0.8525\n",
            "Epoch 4/10\n",
            "367/367 [==============================] - 74s 202ms/step - loss: 0.3154 - accuracy: 0.8625 - val_loss: 0.3416 - val_accuracy: 0.8641\n",
            "Epoch 5/10\n",
            "367/367 [==============================] - 72s 197ms/step - loss: 0.2813 - accuracy: 0.8869 - val_loss: 0.3344 - val_accuracy: 0.8743\n",
            "Epoch 6/10\n",
            "367/367 [==============================] - 75s 205ms/step - loss: 0.2492 - accuracy: 0.8996 - val_loss: 0.3463 - val_accuracy: 0.8637\n",
            "Epoch 7/10\n",
            "367/367 [==============================] - 72s 197ms/step - loss: 0.2105 - accuracy: 0.9148 - val_loss: 0.3560 - val_accuracy: 0.8678\n",
            "Epoch 8/10\n",
            "367/367 [==============================] - 77s 209ms/step - loss: 0.1599 - accuracy: 0.9376 - val_loss: 0.4524 - val_accuracy: 0.8651\n",
            "Epoch 9/10\n",
            "367/367 [==============================] - 72s 195ms/step - loss: 0.1113 - accuracy: 0.9594 - val_loss: 0.5026 - val_accuracy: 0.8579\n",
            "Epoch 10/10\n",
            "367/367 [==============================] - 74s 203ms/step - loss: 0.0709 - accuracy: 0.9736 - val_loss: 0.6714 - val_accuracy: 0.8603\n",
            "92/92 [==============================] - 4s 40ms/step - loss: 0.6714 - accuracy: 0.8603\n",
            "Test Accuracy: 86.03066205978394%\n"
          ]
        }
      ]
    },
    {
      "cell_type": "code",
      "source": [
        "def predecir_imagen(ruta_imagen):\n",
        "  modelo = load_model('modelo_cats_vs_dogs.keras')\n",
        "  imagen = cargar_y_preprocesar_imagen(ruta_imagen)\n",
        "  imagen = np.expand_dims(imagen, axis=0)\n",
        "  prediccion = modelo.predict(imagen)\n",
        "  if prediccion[0][0] > 0.5:\n",
        "    print(\"Es un perro\")\n",
        "  else:\n",
        "    print(\"Es un gato\")\n"
      ],
      "metadata": {
        "id": "6K8WF5-NEDxj"
      },
      "execution_count": 22,
      "outputs": []
    },
    {
      "cell_type": "code",
      "source": [
        "!pip install utils"
      ],
      "metadata": {
        "colab": {
          "base_uri": "https://localhost:8080/"
        },
        "id": "Ess6aWKrJ1hw",
        "outputId": "5f8b27e7-dc54-4ce4-d3d7-dff446e60a52"
      },
      "execution_count": 24,
      "outputs": [
        {
          "output_type": "stream",
          "name": "stdout",
          "text": [
            "Collecting utils\n",
            "  Downloading utils-1.0.2.tar.gz (13 kB)\n",
            "  Preparing metadata (setup.py) ... \u001b[?25l\u001b[?25hdone\n",
            "Building wheels for collected packages: utils\n",
            "  Building wheel for utils (setup.py) ... \u001b[?25l\u001b[?25hdone\n",
            "  Created wheel for utils: filename=utils-1.0.2-py2.py3-none-any.whl size=13905 sha256=a8f8e1f976b5617ac61227c4538f538be7525b5189b87f8efdaece5a681e701d\n",
            "  Stored in directory: /root/.cache/pip/wheels/b8/39/f5/9d0ca31dba85773ececf0a7f5469f18810e1c8a8ed9da28ca7\n",
            "Successfully built utils\n",
            "Installing collected packages: utils\n",
            "Successfully installed utils-1.0.2\n"
          ]
        }
      ]
    },
    {
      "cell_type": "code",
      "source": [
        "from keras.models import load_model\n",
        "\n",
        "modelo = load_model('modelo_cats_vs_dogs.keras')\n",
        "predecir_imagen('/content/drive/MyDrive/dataIA/dogs_vs_cats/predict/perro1.jpg')\n",
        "predecir_imagen('/content/drive/MyDrive/dataIA/dogs_vs_cats/predict/perro2.jpg')\n",
        "predecir_imagen('/content/drive/MyDrive/dataIA/dogs_vs_cats/predict/gato1.jpg')"
      ],
      "metadata": {
        "colab": {
          "base_uri": "https://localhost:8080/"
        },
        "id": "b0_1v1-cEMoS",
        "outputId": "2e458f59-7250-4461-cc18-7393cd6f2a3d"
      },
      "execution_count": 30,
      "outputs": [
        {
          "output_type": "stream",
          "name": "stderr",
          "text": [
            "WARNING:tensorflow:5 out of the last 5 calls to <function Model.make_predict_function.<locals>.predict_function at 0x7cf284938ca0> triggered tf.function retracing. Tracing is expensive and the excessive number of tracings could be due to (1) creating @tf.function repeatedly in a loop, (2) passing tensors with different shapes, (3) passing Python objects instead of tensors. For (1), please define your @tf.function outside of the loop. For (2), @tf.function has reduce_retracing=True option that can avoid unnecessary retracing. For (3), please refer to https://www.tensorflow.org/guide/function#controlling_retracing and https://www.tensorflow.org/api_docs/python/tf/function for  more details.\n"
          ]
        },
        {
          "output_type": "stream",
          "name": "stdout",
          "text": [
            "1/1 [==============================] - 0s 87ms/step\n",
            "Es un perro\n"
          ]
        },
        {
          "output_type": "stream",
          "name": "stderr",
          "text": [
            "WARNING:tensorflow:6 out of the last 6 calls to <function Model.make_predict_function.<locals>.predict_function at 0x7cf284939630> triggered tf.function retracing. Tracing is expensive and the excessive number of tracings could be due to (1) creating @tf.function repeatedly in a loop, (2) passing tensors with different shapes, (3) passing Python objects instead of tensors. For (1), please define your @tf.function outside of the loop. For (2), @tf.function has reduce_retracing=True option that can avoid unnecessary retracing. For (3), please refer to https://www.tensorflow.org/guide/function#controlling_retracing and https://www.tensorflow.org/api_docs/python/tf/function for  more details.\n"
          ]
        },
        {
          "output_type": "stream",
          "name": "stdout",
          "text": [
            "1/1 [==============================] - 0s 84ms/step\n",
            "Es un gato\n",
            "1/1 [==============================] - 0s 86ms/step\n",
            "Es un gato\n"
          ]
        }
      ]
    }
  ]
}