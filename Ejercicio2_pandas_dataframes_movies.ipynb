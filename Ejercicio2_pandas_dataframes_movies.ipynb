{
  "nbformat": 4,
  "nbformat_minor": 0,
  "metadata": {
    "colab": {
      "provenance": []
    },
    "kernelspec": {
      "name": "python3",
      "display_name": "Python 3"
    },
    "language_info": {
      "name": "python"
    }
  },
  "cells": [
    {
      "cell_type": "markdown",
      "source": [
        "## Ejercicio Práctico con Pandas - Peliculas\n",
        "### Objetivo: Explorar y analizar el conjunto de datos de películas.\n",
        "\n",
        "#### Parte 1 Exploración Básica del DataFrame\n",
        "1.  Cargar el archivo CSV en un DataFrame de Pandas.\n",
        "#### Explorar el DataFrame\n",
        "1.  Mostrar las primeras y últimas 5 filas del DataFrame.\n",
        "2.  Obtener información general del DataFrame, como el número de filas, columnas y tipos de datos.\n",
        "#### Enriquecer datos\n",
        "1.  Busca información sobre los protagonistas (si hay dos o más, uno de ellos) y lo que cobraron por la película y su año de nacimiento\n",
        "#### Calculos y manipulación\n",
        "\n",
        "\n",
        "\n",
        "\n",
        "\n",
        "1.   Añade las columnas necesarias con los datos del protagonista\n",
        "2.   Busca relaciones entre género, rentabilidad y edad del protagonista al hacer la película.\n",
        "3.  Busca relaciones entre la rentabilidad de la película y el coste del protagonista\n",
        "4.  Busca cualquier otra relación en los datos que te resulte de interés\n",
        "\n",
        "\n",
        "\n",
        "\n",
        "\n",
        "\n",
        "\n",
        "\n"
      ],
      "metadata": {
        "id": "2s_sO3iI4e5F"
      }
    },
    {
      "cell_type": "code",
      "execution_count": 2,
      "metadata": {
        "colab": {
          "base_uri": "https://localhost:8080/"
        },
        "id": "gLjMgqhh4cTc",
        "outputId": "54b68d13-de7e-4a94-d10a-b196d01391fd"
      },
      "outputs": [
        {
          "output_type": "stream",
          "name": "stdout",
          "text": [
            " ID                                            Película  Año de Emisión          Género  Duración (minutos)  Calificación IMDB  Recaudación  Presupuesto  Ganancias\n",
            "  1                                              Avatar            2009 Ciencia ficción                 162                7.8   2923706026    237000000 5543706026\n",
            "  2                                 Vengadores: Endgame            2019          Acción                 181                8.4   2799439100    356000000 3159439100\n",
            "  3                                            Avatar 2            2022 Ciencia ficción                 190                8.1   2320250233    250000000 2070250233\n",
            "  4                                             Titanic            1997           Drama                 195                7.8   2264743180    200000000 2064743180\n",
            "  5 Star Wars: Episodio VII - El despertar de la Fuerza            2015 Ciencia ficción                 138                7.8   2071521700    245000000 1826521700\n",
            "  6                            Vengadores: Infinity War            2018          Acción                 149                8.4   2052359754    321000000 1732359754\n",
            "  7                             Spider-Man: No Way Home            2021          Acción                 148                8.2   1921704167    200000000 1721704167\n",
            "  8                                      Jurassic World            2015 Ciencia ficción                 124                7.0   1670516444    150000000 1520516444\n",
            "  9                                         El Rey León            2019       Animación                  89                7.1   1663075439    260000000 1403075439\n",
            " 10                                      Los Vengadores            2012          Acción                 143                8.0   1520538515    220000000 1300538515\n",
            " 11                                           Frozen II            2019       Animación                 103                6.8   1453000000    150000000 1303000000\n",
            " 12                                La Bella y la Bestia            2017         Romance                 129                7.1   1264000000    160000000 1104000000\n"
          ]
        }
      ],
      "source": [
        "import pandas as pd\n",
        "df = pd.read_csv('https://drive.google.com/uc?export=download&id=1033_pgXO86pl9hwlIvGZZtNgmbiYJ7ps')\n",
        "print(df.to_string(index=False))"
      ]
    },
    {
      "cell_type": "code",
      "source": [
        "print(df.head().to_string(index=False))\n",
        "print(\"-------------------------------\")\n",
        "print(df.tail().to_string(index=False))\n",
        "print(\"-------------------------------\")\n",
        "print(df.info())\n",
        "print(\"-------------------------------\")\n",
        "num_filas, num_columnas = df.shape\n",
        "print(num_filas, \" --- \", num_columnas)"
      ],
      "metadata": {
        "colab": {
          "base_uri": "https://localhost:8080/"
        },
        "id": "GUoXWWDchtyn",
        "outputId": "569b15eb-3e21-46e3-fa40-722818e41c4d"
      },
      "execution_count": 5,
      "outputs": [
        {
          "output_type": "stream",
          "name": "stdout",
          "text": [
            " ID                                            Película  Año de Emisión          Género  Duración (minutos)  Calificación IMDB  Recaudación  Presupuesto  Ganancias\n",
            "  1                                              Avatar            2009 Ciencia ficción                 162                7.8   2923706026    237000000 5543706026\n",
            "  2                                 Vengadores: Endgame            2019          Acción                 181                8.4   2799439100    356000000 3159439100\n",
            "  3                                            Avatar 2            2022 Ciencia ficción                 190                8.1   2320250233    250000000 2070250233\n",
            "  4                                             Titanic            1997           Drama                 195                7.8   2264743180    200000000 2064743180\n",
            "  5 Star Wars: Episodio VII - El despertar de la Fuerza            2015 Ciencia ficción                 138                7.8   2071521700    245000000 1826521700\n",
            "-------------------------------\n",
            " ID             Película  Año de Emisión          Género  Duración (minutos)  Calificación IMDB  Recaudación  Presupuesto  Ganancias\n",
            "  8       Jurassic World            2015 Ciencia ficción                 124                7.0   1670516444    150000000 1520516444\n",
            "  9          El Rey León            2019       Animación                  89                7.1   1663075439    260000000 1403075439\n",
            " 10       Los Vengadores            2012          Acción                 143                8.0   1520538515    220000000 1300538515\n",
            " 11            Frozen II            2019       Animación                 103                6.8   1453000000    150000000 1303000000\n",
            " 12 La Bella y la Bestia            2017         Romance                 129                7.1   1264000000    160000000 1104000000\n",
            "-------------------------------\n",
            "<class 'pandas.core.frame.DataFrame'>\n",
            "RangeIndex: 12 entries, 0 to 11\n",
            "Data columns (total 9 columns):\n",
            " #   Column              Non-Null Count  Dtype  \n",
            "---  ------              --------------  -----  \n",
            " 0   ID                  12 non-null     int64  \n",
            " 1   Película            12 non-null     object \n",
            " 2   Año de Emisión      12 non-null     int64  \n",
            " 3   Género              12 non-null     object \n",
            " 4   Duración (minutos)  12 non-null     int64  \n",
            " 5   Calificación IMDB   12 non-null     float64\n",
            " 6   Recaudación         12 non-null     int64  \n",
            " 7   Presupuesto         12 non-null     int64  \n",
            " 8   Ganancias           12 non-null     int64  \n",
            "dtypes: float64(1), int64(6), object(2)\n",
            "memory usage: 992.0+ bytes\n",
            "None\n",
            "-------------------------------\n",
            "12  ---  9\n"
          ]
        }
      ]
    },
    {
      "cell_type": "code",
      "source": [
        "df.columns"
      ],
      "metadata": {
        "colab": {
          "base_uri": "https://localhost:8080/"
        },
        "id": "S-YdIz8JkQL4",
        "outputId": "637d2cce-535b-491b-8439-0d36472d61ba"
      },
      "execution_count": 8,
      "outputs": [
        {
          "output_type": "execute_result",
          "data": {
            "text/plain": [
              "Index(['ID', 'Película', 'Año de Emisión', 'Género', 'Duración (minutos)',\n",
              "       'Calificación IMDB', 'Recaudación', 'Presupuesto', 'Ganancias'],\n",
              "      dtype='object')"
            ]
          },
          "metadata": {},
          "execution_count": 8
        }
      ]
    },
    {
      "cell_type": "code",
      "source": [
        "relacion_genero_rentabilidad_edad = df.groupby(['Género']).agg({\n",
        "    'Ganancias': 'mean'\n",
        "}).reset_index()\n",
        "print(relacion_genero_rentabilidad_edad)"
      ],
      "metadata": {
        "colab": {
          "base_uri": "https://localhost:8080/"
        },
        "id": "g_-oLFquh7VV",
        "outputId": "0bb47660-7470-477d-dd1d-0e94b232606e"
      },
      "execution_count": 12,
      "outputs": [
        {
          "output_type": "stream",
          "name": "stdout",
          "text": [
            "            Género     Ganancias\n",
            "0           Acción  1.978510e+09\n",
            "1        Animación  1.353038e+09\n",
            "2  Ciencia ficción  2.740249e+09\n",
            "3            Drama  2.064743e+09\n",
            "4          Romance  1.104000e+09\n"
          ]
        }
      ]
    },
    {
      "cell_type": "code",
      "source": [
        "relacion_ganancias_rentabilidad_presupuesto = df.groupby(['Ganancias']).agg({\n",
        "    'Presupuesto': 'mean'\n",
        "}).reset_index()\n",
        "print(relacion_ganancias_rentabilidad_presupuesto)"
      ],
      "metadata": {
        "colab": {
          "base_uri": "https://localhost:8080/"
        },
        "id": "VT017vRIkz0K",
        "outputId": "f2b2c585-26a9-49ee-e0a9-9951e34cba70"
      },
      "execution_count": 14,
      "outputs": [
        {
          "output_type": "stream",
          "name": "stdout",
          "text": [
            "     Ganancias  Presupuesto\n",
            "0   1104000000  160000000.0\n",
            "1   1300538515  220000000.0\n",
            "2   1303000000  150000000.0\n",
            "3   1403075439  260000000.0\n",
            "4   1520516444  150000000.0\n",
            "5   1721704167  200000000.0\n",
            "6   1732359754  321000000.0\n",
            "7   1826521700  245000000.0\n",
            "8   2064743180  200000000.0\n",
            "9   2070250233  250000000.0\n",
            "10  3159439100  356000000.0\n",
            "11  5543706026  237000000.0\n"
          ]
        }
      ]
    }
  ]
}