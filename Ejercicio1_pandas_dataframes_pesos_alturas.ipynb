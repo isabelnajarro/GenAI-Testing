{
  "nbformat": 4,
  "nbformat_minor": 0,
  "metadata": {
    "colab": {
      "provenance": []
    },
    "kernelspec": {
      "name": "python3",
      "display_name": "Python 3"
    },
    "language_info": {
      "name": "python"
    }
  },
  "cells": [
    {
      "cell_type": "markdown",
      "source": [
        "# Ejercicio Práctico con Pandas\n",
        "\n",
        "## Objetivo: Explorar y analizar el conjunto de datos de pesos y alturas.\n",
        "### Parte 1: Exploración Básica del DataFrame\n",
        "\n",
        "    Cargar el archivo CSV en un DataFrame de Pandas.\n",
        "    Explorar el DataFrame:\n",
        "        Mostrar las primeras y últimas 5 filas del DataFrame.\n",
        "        Obtener información general del DataFrame, como el número de filas, columnas y tipos de datos.\n",
        "        Calcular estadísticas descriptivas básicas para las columnas numéricas (media, mediana, desviación estándar, mínimos y máximos).\n",
        "\n",
        "### Parte 2: Limpieza y Preparación de Datos\n",
        "\n",
        "    Convertir la altura de pulgadas a centímetros.\n",
        "    Convertir el peso de libras a kilogramos.\n",
        "    Tratar con valores faltantes (si los hay): Identificar y manejar los valores faltantes en el conjunto de datos.\n",
        "\n",
        "#### Parte 3: Análisis Exploratorio de Datos\n",
        "\n",
        "    Agrupar datos por género y calcular el peso medio para cada género.\n",
        "    Visualización:\n",
        "        Crear histogramas de las distribuciones de altura y peso.\n",
        "        Crear un diagrama de caja (boxplot) para comparar la distribución del peso entre géneros.\n",
        "    Filtrar datos para un rango de altura específico y calcular estadísticas descriptivas.\n",
        "\n",
        "### Parte 4: Operaciones Avanzadas\n",
        "\n",
        "    Calcular los percentiles del peso para cada género.\n",
        "    Crear una nueva columna que clasifique a los individuos como 'Bajo Peso', 'Peso Normal', 'Sobrepeso' o 'Obesidad' basado en su IMC (Índice de Masa Corporal).\n",
        "\n",
        "### Parte 5: Exportar Resultados\n",
        "\n",
        "    Guardar los resultados del análisis en un nuevo archivo CSV."
      ],
      "metadata": {
        "id": "xrTTXvvGDddg"
      }
    },
    {
      "cell_type": "code",
      "execution_count": null,
      "metadata": {
        "id": "p71Qxy5lDcHI",
        "colab": {
          "base_uri": "https://localhost:8080/"
        },
        "outputId": "43416de8-8a97-4f43-b12b-9bbd8999ab16"
      },
      "outputs": [
        {
          "output_type": "stream",
          "name": "stdout",
          "text": [
            "Gender    Height     Weight\n",
            "  Male 73.847017 241.893563\n",
            "  Male 68.781904 162.310473\n",
            "  Male 74.110105 212.740856\n",
            "  Male 71.730978 220.042470\n",
            "  Male 69.881796 206.349801\n",
            "  Male 67.253016 152.212156\n",
            "  Male 68.785081 183.927889\n",
            "  Male 68.348516 167.971110\n",
            "  Male 67.018950 175.929440\n",
            "  Male 63.456494 156.399676\n",
            "  Male 71.195382 186.604926\n",
            "  Male 71.640805 213.741169\n",
            "  Male 64.766329 167.127461\n",
            "  Male 69.283070 189.446181\n",
            "  Male 69.243732 186.434168\n"
          ]
        }
      ],
      "source": [
        "import pandas as pd\n",
        "URL = \"https://drive.google.com/uc?export=download&id=1-zKKm5aEEabJS01n4vZhE8iiacnXYWGg\"\n",
        "df = pd.read_csv(URL)\n",
        "print(df.head(15).to_string(index=False))"
      ]
    },
    {
      "cell_type": "code",
      "source": [
        "print(df.head().to_string(index=False))\n",
        "print(\"-------------------------------\")\n",
        "print(df.tail().to_string(index=False))\n",
        "print(\"-------------------------------\")\n",
        "print(df.info())\n",
        "print(\"-------------------------------\")\n",
        "print(df.describe())"
      ],
      "metadata": {
        "id": "MJLTw1yK_5Or",
        "colab": {
          "base_uri": "https://localhost:8080/"
        },
        "outputId": "fb0b4932-71e5-4eb9-c347-6b4de4ae885f"
      },
      "execution_count": null,
      "outputs": [
        {
          "output_type": "stream",
          "name": "stdout",
          "text": [
            "Gender    Height     Weight\n",
            "  Male 73.847017 241.893563\n",
            "  Male 68.781904 162.310473\n",
            "  Male 74.110105 212.740856\n",
            "  Male 71.730978 220.042470\n",
            "  Male 69.881796 206.349801\n",
            "-------------------------------\n",
            "Gender    Height     Weight\n",
            "Female 66.172652 136.777454\n",
            "Female 67.067155 170.867906\n",
            "Female 63.867992 128.475319\n",
            "Female 69.034243 163.852461\n",
            "Female 61.944246 113.649103\n",
            "-------------------------------\n",
            "<class 'pandas.core.frame.DataFrame'>\n",
            "RangeIndex: 10000 entries, 0 to 9999\n",
            "Data columns (total 3 columns):\n",
            " #   Column  Non-Null Count  Dtype  \n",
            "---  ------  --------------  -----  \n",
            " 0   Gender  10000 non-null  object \n",
            " 1   Height  9998 non-null   float64\n",
            " 2   Weight  9998 non-null   float64\n",
            "dtypes: float64(2), object(1)\n",
            "memory usage: 234.5+ KB\n",
            "None\n",
            "-------------------------------\n",
            "            Height       Weight\n",
            "count  9998.000000  9998.000000\n",
            "mean     66.366788   161.434302\n",
            "std       3.847510    32.108770\n",
            "min      54.263133    64.700127\n",
            "25%      63.505073   135.815966\n",
            "50%      66.317827   161.197662\n",
            "75%      69.170292   187.139777\n",
            "max      78.998742   269.989699\n"
          ]
        }
      ]
    },
    {
      "cell_type": "code",
      "source": [
        "pulgadaToCm = 2.54\n",
        "librasToKg = 0.45\n",
        "\n",
        "df['Height'] = df['Height'] * pulgadaToCm\n",
        "print(df.head())\n",
        "print(\"----------------------------\")\n",
        "df['Weight'] = df['Weight'] * librasToKg\n",
        "print(df.head())"
      ],
      "metadata": {
        "id": "zpmkxG6GNLql",
        "outputId": "024fa26e-5f00-4fbb-bcd6-02511ecd3cae",
        "colab": {
          "base_uri": "https://localhost:8080/"
        }
      },
      "execution_count": null,
      "outputs": [
        {
          "output_type": "stream",
          "name": "stdout",
          "text": [
            "  Gender      Height      Weight\n",
            "0   Male  187.571423  241.893563\n",
            "1   Male  174.706036  162.310473\n",
            "2   Male  188.239668  212.740856\n",
            "3   Male  182.196685  220.042470\n",
            "4   Male  177.499761  206.349801\n",
            "----------------------------\n",
            "  Gender      Height      Weight\n",
            "0   Male  187.571423  108.852103\n",
            "1   Male  174.706036   73.039713\n",
            "2   Male  188.239668   95.733385\n",
            "3   Male  182.196685   99.019112\n",
            "4   Male  177.499761   92.857410\n"
          ]
        }
      ]
    },
    {
      "cell_type": "code",
      "source": [
        "print(\"Nulls en el DataFrame:\")\n",
        "print(df.isnull().sum())\n",
        "df.fillna(df.mean(), inplace=True)\n",
        "print(df.isnull().sum())"
      ],
      "metadata": {
        "id": "Vu2Wv-J2N_6p",
        "outputId": "e1e53670-38d4-4f2d-fd59-ecc63ec999c5",
        "colab": {
          "base_uri": "https://localhost:8080/"
        }
      },
      "execution_count": null,
      "outputs": [
        {
          "output_type": "stream",
          "name": "stdout",
          "text": [
            "Nulls en el DataFrame:\n",
            "Gender    0\n",
            "Height    2\n",
            "Weight    2\n",
            "dtype: int64\n",
            "Gender    0\n",
            "Height    0\n",
            "Weight    0\n",
            "dtype: int64\n"
          ]
        },
        {
          "output_type": "stream",
          "name": "stderr",
          "text": [
            "<ipython-input-30-1ac9c70132c1>:3: FutureWarning: The default value of numeric_only in DataFrame.mean is deprecated. In a future version, it will default to False. In addition, specifying 'numeric_only=None' is deprecated. Select only valid columns or specify the value of numeric_only to silence this warning.\n",
            "  df.fillna(df.mean(), inplace=True)\n"
          ]
        }
      ]
    },
    {
      "cell_type": "code",
      "source": [
        "peso_promedio = df.groupby('Gender')['Weight'].mean()\n",
        "print(\"Peso promedio: \", peso_promedio)"
      ],
      "metadata": {
        "id": "BQr0vCY4OPkE",
        "outputId": "4dc59371-13ac-4840-c3b2-91bdcd87e6d0",
        "colab": {
          "base_uri": "https://localhost:8080/"
        }
      },
      "execution_count": null,
      "outputs": [
        {
          "output_type": "stream",
          "name": "stdout",
          "text": [
            "Peso promedio:  Gender\n",
            "Female    61.137042\n",
            "Male      84.153830\n",
            "Name: Weight, dtype: float64\n"
          ]
        }
      ]
    },
    {
      "cell_type": "code",
      "source": [
        "import matplotlib.pyplot as plt\n",
        "# Crear histogramas de las distribuciones de altura y peso\n",
        "plt.figure(figsize=(12, 5))\n",
        "\n",
        "plt.subplot(1, 2, 1)\n",
        "plt.hist(df['Height'], bins=20, color='blue', alpha=0.7)\n",
        "plt.title('Distribución de Altura')\n",
        "plt.xlabel('Altura (cm)')\n",
        "plt.ylabel('Frecuencia')\n",
        "\n",
        "plt.subplot(1, 2, 2)\n",
        "plt.hist(df['Weight'], bins=20, color='green', alpha=0.7)\n",
        "plt.title('Distribución de Peso')\n",
        "plt.xlabel('Peso (kg)')\n",
        "plt.ylabel('Frecuencia')\n",
        "\n",
        "# Crear un diagrama de caja para comparar la distribución del peso entre géneros\n",
        "plt.figure(figsize=(6, 6))\n",
        "plt.boxplot([df[df['Gender'] == 'Male']['Weight'],\n",
        "             df[df['Gender'] == 'Female']['Weight']],\n",
        "            labels=['Hombres', 'Mujeres'])\n",
        "plt.title('Comparación de Distribución de Peso entre Géneros')\n",
        "plt.ylabel('Peso (kg)')\n",
        "\n",
        "plt.show()"
      ],
      "metadata": {
        "id": "0SpQtUDWPBlT",
        "outputId": "934be367-5690-4e45-97b6-11e31d8c3e16",
        "colab": {
          "base_uri": "https://localhost:8080/",
          "height": 1000
        }
      },
      "execution_count": null,
      "outputs": [
        {
          "output_type": "display_data",
          "data": {
            "text/plain": [
              "<Figure size 1200x500 with 2 Axes>"
            ],
            "image/png": "[encoded data removed]"
          },
          "metadata": {}
        },
        {
          "output_type": "display_data",
          "data": {
            "text/plain": [
              "<Figure size 600x600 with 1 Axes>"
            ],
            "image/png": "[encoded data removed]"
          },
          "metadata": {}
        }
      ]
    },
    {
      "cell_type": "code",
      "source": [
        "altura_filtrada = df[(df['Height'] >= 160) & (df['Height'] <= 180)]\n",
        "print(\"Estadísticas altura entre 160 y 180 cm:\", altura_filtrada['Height'].describe())"
      ],
      "metadata": {
        "id": "jUqlWy-_WVyl",
        "outputId": "091a5e72-fcb4-4fa3-8fed-e76843648f3a",
        "colab": {
          "base_uri": "https://localhost:8080/"
        }
      },
      "execution_count": null,
      "outputs": [
        {
          "output_type": "stream",
          "name": "stdout",
          "text": [
            "Estadísticas altura entre 160 y 180 cm: count    0.0\n",
            "mean     NaN\n",
            "std      NaN\n",
            "min      NaN\n",
            "25%      NaN\n",
            "50%      NaN\n",
            "75%      NaN\n",
            "max      NaN\n",
            "Name: Height, dtype: float64\n"
          ]
        }
      ]
    },
    {
      "cell_type": "code",
      "source": [
        "percentiles_peso = df.groupby('Gender')['Weight'].quantile([0.25, 0.5, 0.75])\n",
        "print(\"\\nPercentiles del peso por género:\")\n",
        "print(percentiles_peso)"
      ],
      "metadata": {
        "id": "hcqkwugpWzvn",
        "outputId": "cdc7a74c-9ed6-4744-be7f-e42fd699a08e",
        "colab": {
          "base_uri": "https://localhost:8080/"
        }
      },
      "execution_count": null,
      "outputs": [
        {
          "output_type": "stream",
          "name": "stdout",
          "text": [
            "\n",
            "Percentiles del peso por género:\n",
            "Gender      \n",
            "Female  0.25    312.252604\n",
            "        0.50    345.738661\n",
            "        0.75    377.979753\n",
            "Male    0.25    441.627143\n",
            "        0.50    475.043816\n",
            "        0.75    508.908817\n",
            "Name: Weight, dtype: float64\n"
          ]
        }
      ]
    },
    {
      "cell_type": "code",
      "source": [
        "df['imc'] = df['Height'] / ((df['Weight'] / 100) ** 2)\n",
        "\n",
        "def clasificar_imc(imc):\n",
        "    if imc < 18.5:\n",
        "        return 'Bajo Peso'\n",
        "    elif 18.5 <= imc < 25:\n",
        "        return 'Peso Normal'\n",
        "    elif 25 <= imc < 30:\n",
        "        return 'Sobrepeso'\n",
        "    else:\n",
        "        return 'Obesidad'\n",
        "\n",
        "df['clasificacion_imc'] = df['imc'].apply(clasificar_imc)\n",
        "df['clasificacion_imc'].value_counts()"
      ],
      "metadata": {
        "id": "D2EbmsLCW_WT",
        "outputId": "5d1df38d-cf45-4f0c-a1da-b0499149c852",
        "colab": {
          "base_uri": "https://localhost:8080/"
        }
      },
      "execution_count": null,
      "outputs": [
        {
          "output_type": "execute_result",
          "data": {
            "text/plain": [
              "Obesidad       3719\n",
              "Peso Normal    3031\n",
              "Bajo Peso      1809\n",
              "Sobrepeso      1441\n",
              "Name: clasificacion_imc, dtype: int64"
            ]
          },
          "metadata": {},
          "execution_count": 24
        }
      ]
    },
    {
      "cell_type": "code",
      "source": [
        "df.to_csv('resultados.csv', index=False)"
      ],
      "metadata": {
        "id": "HYPT6ziAYBYF"
      },
      "execution_count": null,
      "outputs": []
    }
  ]
}